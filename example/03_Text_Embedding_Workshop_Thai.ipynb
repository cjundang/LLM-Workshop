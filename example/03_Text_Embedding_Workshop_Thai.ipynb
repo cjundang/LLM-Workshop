{
  "cells": [
    {
      "cell_type": "markdown",
      "metadata": {},
      "source": [
        "# 🧪 Workshop: การวิเคราะห์ข้อความเชิงบริบทด้วย Text Embedding\n",
        "### Contextual Text Analysis using Sentence Embedding\n",
        "ผู้สอน: Assist. Prof. Dr. CJ  \n",
        "วัตถุประสงค์: เรียนรู้การสร้างและวิเคราะห์ Text Embedding ภาษาไทยด้วย SentenceTransformer"
      ]
    },
    {
      "cell_type": "code",
      "execution_count": null,
      "metadata": {},
      "outputs": [],
      "source": [
        "!pip install -q sentence-transformers matplotlib scikit-learn"
      ]
    },
    {
      "cell_type": "markdown",
      "metadata": {},
      "source": [
        "## ส่วนที่ 1: โหลดโมเดลและเตรียมข้อมูลตัวอย่าง"
      ]
    },
    {
      "cell_type": "code",
      "execution_count": null,
      "metadata": {},
      "outputs": [],
      "source": [
        "from sentence_transformers import SentenceTransformer, util\n",
        "import numpy as np\n",
        "import matplotlib.pyplot as plt\n",
        "from sklearn.manifold import TSNE\n",
        "\n",
        "# โหลดโมเดล multilingual ที่รองรับภาษาไทย\n",
        "model = SentenceTransformer('paraphrase-multilingual-MiniLM-L12-v2')\n",
        "\n",
        "# ข้อความตัวอย่างภาษาไทย\n",
        "texts = [\n",
        "    \"รถยนต์ไฟฟ้าเป็นมิตรต่อสิ่งแวดล้อม\",\n",
        "    \"ยานยนต์พลังงานสะอาดกำลังได้รับความนิยม\",\n",
        "    \"ธนาคารให้บริการสินเชื่อบ้าน\",\n",
        "    \"แม่น้ำมีน้ำมากในฤดูฝน\",\n",
        "    \"รถยนต์ใช้น้ำมันเชื้อเพลิง\"\n",
        "]\n",
        "\n",
        "print(\"จำนวนข้อความที่ใช้ในการทดลอง:\", len(texts))"
      ]
    },
    {
      "cell_type": "markdown",
      "metadata": {},
      "source": [
        "## ส่วนที่ 2: การสร้าง Text Embeddings"
      ]
    },
    {
      "cell_type": "code",
      "execution_count": null,
      "metadata": {},
      "outputs": [],
      "source": [
        "embeddings = model.encode(texts)\n",
        "print(\"Embedding Shape:\", embeddings.shape)\n",
        "print(\"\\nตัวอย่างเวกเตอร์ของข้อความแรก:\")\n",
        "print(embeddings[0][:10])"
      ]
    },
    {
      "cell_type": "markdown",
      "metadata": {},
      "source": [
        "## ส่วนที่ 3: การวัดความคล้ายคลึงของข้อความ"
      ]
    },
    {
      "cell_type": "code",
      "execution_count": null,
      "metadata": {},
      "outputs": [],
      "source": [
        "similarity = util.cos_sim(embeddings, embeddings)\n",
        "print(\"\\nตารางความคล้ายคลึง (Cosine Similarity Matrix):\\n\")\n",
        "print(similarity)\n",
        "\n",
        "print(\"\\n=== การวิเคราะห์ความคล้ายคลึงเชิงความหมาย ===\\n\")\n",
        "for i in range(len(texts)):\n",
        "    for j in range(i+1, len(texts)):\n",
        "        print(f\"[{texts[i]}] ↔ [{texts[j]}] = {similarity[i][j]:.3f}\")"
      ]
    },
    {
      "cell_type": "markdown",
      "metadata": {},
      "source": [
        "## ส่วนที่ 4: การแสดงภาพเชิงเวกเตอร์ด้วย t-SNE"
      ]
    },
    {
      "cell_type": "code",
      "execution_count": null,
      "metadata": {},
      "outputs": [],
      "source": [
        "tsne = TSNE(n_components=2, random_state=42, perplexity=5)\n",
        "reduced = tsne.fit_transform(embeddings)\n",
        "\n",
        "plt.figure(figsize=(8,6))\n",
        "plt.scatter(reduced[:,0], reduced[:,1], s=80)\n",
        "for i, text in enumerate(texts):\n",
        "    plt.annotate(text, (reduced[i,0]+0.2, reduced[i,1]), fontsize=12)\n",
        "plt.title(\"Visualization of Thai Sentence Embeddings\", fontsize=14)\n",
        "plt.xlabel(\"t-SNE Dimension 1\")\n",
        "plt.ylabel(\"t-SNE Dimension 2\")\n",
        "plt.grid(True)\n",
        "plt.show()"
      ]
    },
    {
      "cell_type": "markdown",
      "metadata": {},
      "source": [
        "## ส่วนที่ 5: สรุปและอภิปรายผล"
      ]
    },
    {
      "cell_type": "code",
      "execution_count": null,
      "metadata": {},
      "outputs": [],
      "source": [
        "print(\"\\n🧠 สรุปเชิงแนวคิด:\")\n",
        "print(\"- ข้อความที่มีความหมายใกล้เคียงกัน เช่น 'รถยนต์ไฟฟ้า' กับ 'ยานยนต์พลังงานสะอาด' จะอยู่ใกล้กันในพื้นที่เวกเตอร์\")\n",
        "print(\"- ข้อความที่บริบทต่างกัน เช่น 'รถยนต์ไฟฟ้า' กับ 'ธนาคาร' จะมีระยะห่างมาก\")\n",
        "print(\"- แสดงให้เห็นว่า embedding ช่วยให้ระบบเข้าใจ 'ความหมาย' มากกว่า 'คำ'\")"
      ]
    }
  ],
  "metadata": {
    "kernelspec": {
      "display_name": "Python 3",
      "language": "python",
      "name": "python3"
    },
    "language_info": {
      "name": "python",
      "version": "3.10"
    }
  },
  "nbformat": 4,
  "nbformat_minor": 2
}
