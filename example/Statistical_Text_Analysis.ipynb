{
 "cells": [
  {
   "cell_type": "markdown",
   "id": "c99e482f",
   "metadata": {},
   "source": [
    "\n",
    "# 🧠 03 - การวิเคราะห์ข้อความเชิงสถิติ (Statistical Text Analysis)\n",
    "\n",
    "**Chanankorn**  \n",
    "*School of Informatics, Walailak University*  \n",
    "\n",
    "---\n",
    "\n",
    "This notebook demonstrates the fundamental processes in **Statistical Text Analysis**, including text preprocessing, statistical representation, descriptive analysis, and predictive modeling.\n",
    "\n",
    "โน้ตบุ๊กนี้แสดงตัวอย่างกระบวนการพื้นฐานของ **การวิเคราะห์ข้อความเชิงสถิติ** ซึ่งประกอบด้วยการเตรียมข้อความ การแทนค่าข้อความเชิงสถิติ การวิเคราะห์เชิงพรรณนา และการสร้างแบบจำลองเชิงพยากรณ์\n"
   ]
  },
  {
   "cell_type": "code",
   "execution_count": 4,
   "id": "268b4b9d",
   "metadata": {},
   "outputs": [
    {
     "name": "stdout",
     "output_type": "stream",
     "text": [
      "zsh:1: command not found: pip\n"
     ]
    }
   ],
   "source": [
    "\n",
    "# 📦 Library Installation (ติดตั้งไลบรารีที่จำเป็น)\n",
    "! pip install nltk wordcloud scikit-learn seaborn matplotlib pandas textblob\n"
   ]
  },
  {
   "cell_type": "markdown",
   "id": "57827b35",
   "metadata": {},
   "source": [
    "\n",
    "## 1. Text Preprocessing (การเตรียมข้อมูลข้อความ)\n",
    "\n",
    "This section demonstrates the essential preprocessing steps for text data.  \n",
    "ส่วนนี้แสดงขั้นตอนสำคัญในการเตรียมข้อมูลข้อความก่อนนำไปวิเคราะห์\n"
   ]
  },
  {
   "cell_type": "code",
   "execution_count": null,
   "id": "7dd4a7bf",
   "metadata": {},
   "outputs": [],
   "source": [
    "\n",
    "import nltk\n",
    "from nltk.corpus import stopwords\n",
    "from nltk.tokenize import word_tokenize\n",
    "from nltk.stem import WordNetLemmatizer\n",
    "import string\n",
    "\n",
    "nltk.download('punkt')\n",
    "nltk.download('stopwords')\n",
    "nltk.download('wordnet')\n",
    "\n",
    "text = \"Statistical text analysis involves processing and understanding text data using math and statistics.\"\n",
    "\n",
    "tokens = word_tokenize(text.lower())\n",
    "filtered = [w for w in tokens if w not in stopwords.words('english') and w not in string.punctuation]\n",
    "lemmatizer = WordNetLemmatizer()\n",
    "lemmatized = [lemmatizer.lemmatize(word) for word in filtered]\n",
    "\n",
    "print(\"Original Tokens:\", tokens)\n",
    "print(\"After Cleaning:\", lemmatized)\n"
   ]
  },
  {
   "cell_type": "markdown",
   "id": "0d5dd0a5",
   "metadata": {},
   "source": [
    "\n",
    "## 2. Statistical Representation (การแทนค่าข้อความเชิงสถิติ)\n",
    "\n",
    "We represent cleaned text as numerical vectors for further statistical or machine learning analysis.  \n",
    "เราจะแทนค่าข้อความที่ผ่านการทำความสะอาดแล้วให้อยู่ในรูปแบบเชิงตัวเลขเพื่อใช้ในการวิเคราะห์\n"
   ]
  },
  {
   "cell_type": "code",
   "execution_count": null,
   "id": "a9474f59",
   "metadata": {},
   "outputs": [],
   "source": [
    "\n",
    "from sklearn.feature_extraction.text import CountVectorizer, TfidfVectorizer\n",
    "\n",
    "corpus = [\n",
    "    \"Artificial intelligence and machine learning are related fields.\",\n",
    "    \"Statistical text analysis is part of natural language processing.\"\n",
    "]\n",
    "\n",
    "# Bag of Words\n",
    "bow = CountVectorizer()\n",
    "bow_matrix = bow.fit_transform(corpus)\n",
    "print(\"BoW Vocabulary:\", bow.get_feature_names_out())\n",
    "\n",
    "# TF-IDF\n",
    "tfidf = TfidfVectorizer()\n",
    "tfidf_matrix = tfidf.fit_transform(corpus)\n",
    "print(\"TF-IDF Vocabulary:\", tfidf.get_feature_names_out())\n",
    "\n",
    "# N-grams\n",
    "ngram_vectorizer = CountVectorizer(ngram_range=(2, 2))\n",
    "ngram_matrix = ngram_vectorizer.fit_transform(corpus)\n",
    "print(\"Bigrams:\", ngram_vectorizer.get_feature_names_out())\n"
   ]
  },
  {
   "cell_type": "markdown",
   "id": "58a7860a",
   "metadata": {},
   "source": [
    "\n",
    "## 3. Descriptive Statistics (การวิเคราะห์เชิงพรรณนา)\n",
    "\n",
    "We can explore the word distribution and visualize it using word frequencies or word clouds.  \n",
    "เราสามารถสำรวจการกระจายของคำและสร้างภาพด้วย Word Cloud\n"
   ]
  },
  {
   "cell_type": "code",
   "execution_count": null,
   "id": "276d3c1e",
   "metadata": {},
   "outputs": [],
   "source": [
    "\n",
    "from collections import Counter\n",
    "from wordcloud import WordCloud\n",
    "import matplotlib.pyplot as plt\n",
    "\n",
    "words = [\"data\", \"text\", \"analysis\", \"data\", \"text\", \"machine\", \"learning\", \"data\"]\n",
    "freq = Counter(words)\n",
    "print(freq.most_common(5))\n",
    "\n",
    "wc = WordCloud(width=800, height=400, background_color='white').generate(\" \".join(words))\n",
    "plt.imshow(wc, interpolation='bilinear')\n",
    "plt.axis(\"off\")\n",
    "plt.show()\n"
   ]
  },
  {
   "cell_type": "markdown",
   "id": "99196d14",
   "metadata": {},
   "source": [
    "\n",
    "## 4. Inferential and Predictive Analysis (การวิเคราะห์เชิงอ้างอิงและพยากรณ์)\n",
    "\n",
    "This section demonstrates advanced text analytics methods.  \n",
    "ส่วนนี้แสดงเทคนิคขั้นสูงสำหรับการวิเคราะห์ข้อความ\n"
   ]
  },
  {
   "cell_type": "code",
   "execution_count": null,
   "id": "44225bc4",
   "metadata": {},
   "outputs": [],
   "source": [
    "\n",
    "from sklearn.decomposition import LatentDirichletAllocation\n",
    "from sklearn.feature_extraction.text import CountVectorizer\n",
    "\n",
    "documents = [\n",
    "    \"Machine learning improves predictive analytics.\",\n",
    "    \"Deep learning is part of artificial intelligence.\",\n",
    "    \"Statistical models help in natural language processing.\"\n",
    "]\n",
    "\n",
    "vectorizer = CountVectorizer()\n",
    "X = vectorizer.fit_transform(documents)\n",
    "\n",
    "lda = LatentDirichletAllocation(n_components=2, random_state=42)\n",
    "lda.fit(X)\n",
    "\n",
    "for idx, topic in enumerate(lda.components_):\n",
    "    print(f\"Topic {idx}:\")\n",
    "    print([vectorizer.get_feature_names_out()[i] for i in topic.argsort()[-5:]])\n"
   ]
  },
  {
   "cell_type": "code",
   "execution_count": null,
   "id": "51fc670e",
   "metadata": {},
   "outputs": [],
   "source": [
    "\n",
    "from textblob import TextBlob\n",
    "\n",
    "texts = [\"I love this product!\", \"This is the worst experience ever.\"]\n",
    "for t in texts:\n",
    "    sentiment = TextBlob(t).sentiment.polarity\n",
    "    print(f\"'{t}' → Sentiment Score: {sentiment}\")\n"
   ]
  },
  {
   "cell_type": "code",
   "execution_count": null,
   "id": "4109021d",
   "metadata": {},
   "outputs": [],
   "source": [
    "\n",
    "from sklearn.feature_extraction.text import TfidfVectorizer\n",
    "from sklearn.cluster import KMeans\n",
    "\n",
    "texts = [\n",
    "    \"Artificial intelligence and machine learning\",\n",
    "    \"Statistical analysis in data science\",\n",
    "    \"Deep learning for NLP applications\",\n",
    "    \"Predictive modeling and statistics\"\n",
    "]\n",
    "\n",
    "vectorizer = TfidfVectorizer()\n",
    "X = vectorizer.fit_transform(texts)\n",
    "\n",
    "kmeans = KMeans(n_clusters=2, random_state=42)\n",
    "kmeans.fit(X)\n",
    "\n",
    "for i, label in enumerate(kmeans.labels_):\n",
    "    print(f\"Text: {texts[i]} → Cluster: {label}\")\n"
   ]
  },
  {
   "cell_type": "markdown",
   "id": "0ac42ae0",
   "metadata": {},
   "source": [
    "\n",
    "## 5. Case Study: Spam Detection (กรณีศึกษา – การตรวจจับข้อความสแปม)\n",
    "\n",
    "This section demonstrates a basic spam classifier using TF-IDF and Naïve Bayes.  \n",
    "ส่วนนี้สาธิตการจำแนกข้อความสแปมโดยใช้ TF-IDF และ Naïve Bayes\n"
   ]
  },
  {
   "cell_type": "code",
   "execution_count": 1,
   "id": "43d49ce8",
   "metadata": {},
   "outputs": [
    {
     "ename": "ModuleNotFoundError",
     "evalue": "No module named 'nltk'",
     "output_type": "error",
     "traceback": [
      "\u001b[31m---------------------------------------------------------------------------\u001b[39m",
      "\u001b[31mModuleNotFoundError\u001b[39m                       Traceback (most recent call last)",
      "\u001b[36mCell\u001b[39m\u001b[36m \u001b[39m\u001b[32mIn[1]\u001b[39m\u001b[32m, line 3\u001b[39m\n\u001b[32m      1\u001b[39m \u001b[38;5;28;01mimport\u001b[39;00m\u001b[38;5;250m \u001b[39m\u001b[34;01mpandas\u001b[39;00m\u001b[38;5;250m \u001b[39m\u001b[38;5;28;01mas\u001b[39;00m\u001b[38;5;250m \u001b[39m\u001b[34;01mpd\u001b[39;00m\n\u001b[32m      2\u001b[39m \u001b[38;5;28;01mimport\u001b[39;00m\u001b[38;5;250m \u001b[39m\u001b[34;01mstring\u001b[39;00m\n\u001b[32m----> \u001b[39m\u001b[32m3\u001b[39m \u001b[38;5;28;01mimport\u001b[39;00m\u001b[38;5;250m \u001b[39m\u001b[34;01mnltk\u001b[39;00m\n\u001b[32m      4\u001b[39m \u001b[38;5;28;01mfrom\u001b[39;00m\u001b[38;5;250m \u001b[39m\u001b[34;01mnltk\u001b[39;00m\u001b[34;01m.\u001b[39;00m\u001b[34;01mcorpus\u001b[39;00m\u001b[38;5;250m \u001b[39m\u001b[38;5;28;01mimport\u001b[39;00m stopwords\n\u001b[32m      5\u001b[39m \u001b[38;5;28;01mfrom\u001b[39;00m\u001b[38;5;250m \u001b[39m\u001b[34;01msklearn\u001b[39;00m\u001b[34;01m.\u001b[39;00m\u001b[34;01mmodel_selection\u001b[39;00m\u001b[38;5;250m \u001b[39m\u001b[38;5;28;01mimport\u001b[39;00m train_test_split\n",
      "\u001b[31mModuleNotFoundError\u001b[39m: No module named 'nltk'"
     ]
    }
   ],
   "source": [
    "\n",
    "import pandas as pd\n",
    "import string\n",
    "import nltk\n",
    "from nltk.corpus import stopwords\n",
    "from sklearn.model_selection import train_test_split\n",
    "from sklearn.feature_extraction.text import TfidfVectorizer\n",
    "from sklearn.naive_bayes import MultinomialNB\n",
    "from sklearn.metrics import accuracy_score, confusion_matrix, classification_report\n",
    "import seaborn as sns\n",
    "import matplotlib.pyplot as plt\n",
    "\n",
    "nltk.download('stopwords')\n",
    "\n",
    "data = {\n",
    "    'label': ['spam', 'ham', 'ham', 'spam', 'ham', 'spam', 'ham', 'spam'],\n",
    "    'text': [\n",
    "        \"Congratulations! You won a free iPhone. Click here to claim now!\",\n",
    "        \"Hi John, can we reschedule our meeting tomorrow?\",\n",
    "        \"Your Amazon order has been shipped successfully.\",\n",
    "        \"Limited offer! Get a $1000 cash prize. Visit our website today!\",\n",
    "        \"Lunch at 12:30? Let me know your preference.\",\n",
    "        \"Earn money from home!!! Exclusive deal inside!!!\",\n",
    "        \"Reminder: Your report is due by Monday.\",\n",
    "        \"You’ve been selected for a free vacation trip to Hawaii!\"\n",
    "    ]\n",
    "}\n",
    "df = pd.DataFrame(data)\n",
    "\n",
    "def clean_text(text):\n",
    "    text = text.lower()\n",
    "    text = ''.join([c for c in text if c not in string.punctuation])\n",
    "    tokens = text.split()\n",
    "    tokens = [word for word in tokens if word not in stopwords.words('english')]\n",
    "    return \" \".join(tokens)\n",
    "\n",
    "df['clean_text'] = df['text'].apply(clean_text)\n",
    "\n",
    "X_train, X_test, y_train, y_test = train_test_split(df['clean_text'], df['label'], test_size=0.3, random_state=42)\n",
    "\n",
    "tfidf = TfidfVectorizer(max_features=1000)\n",
    "X_train_tfidf = tfidf.fit_transform(X_train)\n",
    "X_test_tfidf = tfidf.transform(X_test)\n",
    "\n",
    "model = MultinomialNB()\n",
    "model.fit(X_train_tfidf, y_train)\n",
    "y_pred = model.predict(X_test_tfidf)\n",
    "\n",
    "print(\"Accuracy:\", accuracy_score(y_test, y_pred))\n",
    "print(\"\\nClassification Report:\\n\", classification_report(y_test, y_pred))\n",
    "\n",
    "cm = confusion_matrix(y_test, y_pred, labels=['spam', 'ham'])\n",
    "sns.heatmap(cm, annot=True, fmt='d', cmap='Blues',\n",
    "            xticklabels=['Predicted Spam', 'Predicted Ham'],\n",
    "            yticklabels=['Actual Spam', 'Actual Ham'])\n",
    "plt.title(\"Confusion Matrix: Spam Email Classifier\")\n",
    "plt.show()\n"
   ]
  },
  {
   "cell_type": "markdown",
   "id": "a639c7e6",
   "metadata": {},
   "source": [
    "\n",
    "## 6. Conclusion (สรุป)\n",
    "\n",
    "This notebook demonstrated the key steps of **Statistical Text Analysis**, from preprocessing to prediction.  \n",
    "โน้ตบุ๊กนี้แสดงขั้นตอนสำคัญของการวิเคราะห์ข้อความเชิงสถิติ ตั้งแต่การเตรียมข้อมูลจนถึงการสร้างแบบจำลองพยากรณ์\n"
   ]
  }
 ],
 "metadata": {
  "kernelspec": {
   "display_name": "Python 3",
   "language": "python",
   "name": "python3"
  },
  "language_info": {
   "codemirror_mode": {
    "name": "ipython",
    "version": 3
   },
   "file_extension": ".py",
   "mimetype": "text/x-python",
   "name": "python",
   "nbconvert_exporter": "python",
   "pygments_lexer": "ipython3",
   "version": "3.13.5"
  }
 },
 "nbformat": 4,
 "nbformat_minor": 5
}
