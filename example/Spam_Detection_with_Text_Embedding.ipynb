{
  "cells": [
    {
      "cell_type": "markdown",
      "metadata": {},
      "source": [
        "# 🧪 Showcase: Contextual Spam Detection using Text Embedding\n",
        "### โดย Assist. Prof. Dr. CJ  \n",
        "สาธิตการใช้ Sentence Embedding เพื่อจำแนกข้อความ Spam/Ham ตามบริบท\n",
        "\n",
        "**แนวคิดหลัก:**\n",
        "- ใช้โมเดล embedding เพื่อแทนความหมายของข้อความในเชิงเวกเตอร์\n",
        "- วิเคราะห์ว่าข้อความใดอยู่ใกล้กันใน semantic space เพื่อแยกกลุ่ม spam ออกจาก ham"
      ]
    },
    {
      "cell_type": "code",
      "execution_count": null,
      "metadata": {},
      "outputs": [],
      "source": [
        "!pip install -q sentence-transformers scikit-learn matplotlib"
      ]
    },
    {
      "cell_type": "markdown",
      "metadata": {},
      "source": [
        "## 1️⃣ เตรียมข้อมูลตัวอย่าง"
      ]
    },
    {
      "cell_type": "code",
      "execution_count": null,
      "metadata": {},
      "outputs": [],
      "source": [
        "data = {\n",
        "    'label': ['spam', 'ham', 'ham', 'spam', 'ham', 'spam', 'ham', 'spam'],\n",
        "    'text': [\n",
        "        \"Congratulations! You won a free iPhone. Click here to claim now!\",\n",
        "        \"Hi John, can we reschedule our meeting tomorrow?\",\n",
        "        \"Your Amazon order has been shipped successfully.\",\n",
        "        \"Limited offer! Get a $1000 cash prize. Visit our website today!\",\n",
        "        \"Lunch at 12:30? Let me know your preference.\",\n",
        "        \"Earn money from home!!! Exclusive deal inside!!!\",\n",
        "        \"Reminder: Your report is due by Monday.\",\n",
        "        \"You’ve been selected for a free vacation trip to Hawaii!\"\n",
        "    ]\n",
        "}\n",
        "\n",
        "texts = data['text']\n",
        "labels = data['label']\n",
        "\n",
        "print(f\"จำนวนข้อความทั้งหมด: {len(texts)}\")"
      ]
    },
    {
      "cell_type": "markdown",
      "metadata": {},
      "source": [
        "## 2️⃣ สร้าง Sentence Embedding และลดมิติด้วย PCA เพื่อแสดงผล"
      ]
    },
    {
      "cell_type": "code",
      "execution_count": null,
      "metadata": {},
      "outputs": [],
      "source": [
        "from sentence_transformers import SentenceTransformer\n",
        "from sklearn.decomposition import PCA\n",
        "import matplotlib.pyplot as plt\n",
        "import numpy as np\n",
        "\n",
        "model = SentenceTransformer('all-MiniLM-L6-v2')\n",
        "embeddings = model.encode(texts)\n",
        "\n",
        "pca = PCA(n_components=2)\n",
        "reduced = pca.fit_transform(embeddings)\n",
        "\n",
        "plt.figure(figsize=(8,6))\n",
        "for i, label in enumerate(labels):\n",
        "    color = 'red' if label == 'spam' else 'blue'\n",
        "    plt.scatter(reduced[i,0], reduced[i,1], color=color, s=80)\n",
        "    plt.annotate(label, (reduced[i,0]+0.1, reduced[i,1]), fontsize=10)\n",
        "plt.title(\"Semantic Space of Messages (Spam vs Ham)\")\n",
        "plt.xlabel(\"PCA Dimension 1\")\n",
        "plt.ylabel(\"PCA Dimension 2\")\n",
        "plt.grid(True)\n",
        "plt.show()"
      ]
    },
    {
      "cell_type": "markdown",
      "metadata": {},
      "source": [
        "## 3️⃣ ฝึกโมเดลจำแนกเบื้องต้นด้วย K-Nearest Neighbors"
      ]
    },
    {
      "cell_type": "code",
      "execution_count": null,
      "metadata": {},
      "outputs": [],
      "source": [
        "from sklearn.preprocessing import LabelEncoder\n",
        "from sklearn.neighbors import KNeighborsClassifier\n",
        "\n",
        "encoder = LabelEncoder()\n",
        "y = encoder.fit_transform(labels)\n",
        "\n",
        "clf = KNeighborsClassifier(n_neighbors=3)\n",
        "clf.fit(embeddings, y)\n",
        "\n",
        "# ทดสอบข้อความใหม่\n",
        "new_messages = [\n",
        "    \"Get rich quick! Limited time offer, claim your reward.\",\n",
        "    \"Please review the attached project report for tomorrow’s meeting.\",\n",
        "    \"Win a free laptop just by signing up!\"\n",
        "]\n",
        "\n",
        "new_embeds = model.encode(new_messages)\n",
        "preds = clf.predict(new_embeds)\n",
        "\n",
        "for msg, pred in zip(new_messages, preds):\n",
        "    print(f\"[{msg}] → {encoder.inverse_transform([pred])[0]}\")"
      ]
    },
    {
      "cell_type": "markdown",
      "metadata": {},
      "source": [
        "## 4️⃣ การตีความเชิงบริบท\n",
        "\n",
        "**การสังเกต:**\n",
        "- ข้อความที่เกี่ยวข้องกับ *รางวัล / โปรโมชั่น / ลิงก์คลิก* จะอยู่ในบริเวณเดียวกันของ embedding space (กลุ่ม spam)\n",
        "- ข้อความที่เกี่ยวข้องกับ *งาน / การสื่อสารทั่วไป* จะอยู่ในอีกบริเวณหนึ่ง (กลุ่ม ham)\n",
        "\n",
        "**สรุป:**\n",
        "Embedding ช่วยให้ระบบสามารถเข้าใจ “ความหมาย” ของข้อความได้ในเชิงบริบท ไม่ต้องพึ่ง keyword ตรงตัว เช่น “win” หรือ “offer” เท่านั้น"
      ]
    }
  ],
  "metadata": {
    "kernelspec": {
      "display_name": "Python 3",
      "language": "python",
      "name": "python3"
    },
    "language_info": {
      "name": "python",
      "version": "3.10"
    }
  },
  "nbformat": 4,
  "nbformat_minor": 2
}