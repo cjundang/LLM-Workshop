{
 "cells": [
  {
   "cell_type": "markdown",
   "metadata": {},
   "source": [
    "# 🤖 Workshop: สร้าง AI ตอบคำถามจากเอกสาร ด้วย RAG Framework\n",
    "### ดร. CJ - Walailak University\n",
    "เวิร์กชอปนี้ออกแบบสำหรับนักเรียนมัธยมปลาย เพื่อให้เข้าใจแนวคิด RAG (Retrieval-Augmented Generation) และลองสร้างระบบ AI ตอบคำถามจากเอกสารได้ด้วยตัวเอง"
   ]
  },
  {
   "cell_type": "code",
   "metadata": {},
   "source": [
    "!pip install sentence-transformers faiss-cpu openai -q\n",
    "from sentence_transformers import SentenceTransformer\n",
    "from sklearn.metrics.pairwise import cosine_similarity\n",
    "from openai import OpenAI\n",
    "import numpy as np\n",
    "\n",
    "print('✅ เครื่องมือพร้อมใช้งานแล้ว!')"
   ]
  },
  {
   "cell_type": "markdown",
   "metadata": {},
   "source": [
    "## 🧩 ส่วนที่ 1: สร้างเอกสารตัวอย่าง"
   ]
  },
  {
   "cell_type": "code",
   "metadata": {},
   "source": [
    "text = '''\n",
    "สมองของมนุษย์ประกอบด้วยเซลล์ประสาทนับพันล้านเซลล์\n",
    "ซึ่งส่งสัญญาณไฟฟ้าเพื่อให้เราคิด วิเคราะห์ และจดจำสิ่งต่าง ๆ ได้\n",
    "ระบบประสาททำงานร่วมกับประสาทสัมผัส เช่น การมองเห็นและการได้ยิน\n",
    "ทำให้มนุษย์สามารถตอบสนองต่อสิ่งรอบตัวได้อย่างรวดเร็ว\n",
    "'''\n",
    "print('ตัวอย่างเอกสาร:')\n",
    "print(text)"
   ]
  },
  {
   "cell_type": "markdown",
   "metadata": {},
   "source": [
    "## ⚙️ ส่วนที่ 2: แบ่งเอกสารเป็นชิ้นเล็ก ๆ (Chunking)"
   ]
  },
  {
   "cell_type": "code",
   "metadata": {},
   "source": [
    "chunk_size = 80\n",
    "chunks = [text[i:i+chunk_size] for i in range(0, len(text), chunk_size)]\n",
    "print(f'\nจำนวนชิ้นข้อมูล (chunks): {len(chunks)}\n')\n",
    "for i, c in enumerate(chunks):\n",
    "    print(f'Chunk {i+1}: {c}\n')"
   ]
  },
  {
   "cell_type": "markdown",
   "metadata": {},
   "source": [
    "## 🧠 ส่วนที่ 3: ใช้ LLM สร้างสรุป (จำลอง Context Generation)"
   ]
  },
  {
   "cell_type": "code",
   "metadata": {},
   "source": [
    "def fake_summary(chunk):\n",
    "    return f'สรุป: {chunk[:30]}...'\n",
    "\n",
    "summaries = [fake_summary(c) for c in chunks]\n",
    "for s in summaries:\n",
    "    print(s)"
   ]
  },
  {
   "cell_type": "markdown",
   "metadata": {},
   "source": [
    "## 🔢 ส่วนที่ 4: แปลงข้อความเป็นเวกเตอร์ (Embedding)"
   ]
  },
  {
   "cell_type": "code",
   "metadata": {},
   "source": [
    "model = SentenceTransformer('all-MiniLM-L6-v2')\n",
    "embeddings = model.encode(summaries)\n",
    "print(f'\nEmbedding ตัวอย่าง: {embeddings[0][:10]}')"
   ]
  },
  {
   "cell_type": "markdown",
   "metadata": {},
   "source": [
    "## 🔍 ส่วนที่ 5: สร้างระบบค้นหา (Retriever)"
   ]
  },
  {
   "cell_type": "code",
   "metadata": {},
   "source": [
    "query = 'มนุษย์คิดได้อย่างไร'\n",
    "query_vec = model.encode([query])\n",
    "scores = cosine_similarity(query_vec, embeddings)\n",
    "for i, score in enumerate(scores[0]):\n",
    "    print(f'Chunk {i+1} | คะแนนความใกล้เคียง: {score:.3f}')\n",
    "\n",
    "best_idx = np.argmax(scores)\n",
    "print('\n🔍 ข้อมูลที่ใกล้เคียงที่สุดคือ:')\n",
    "print(chunks[best_idx])"
   ]
  },
  {
   "cell_type": "markdown",
   "metadata": {},
   "source": [
    "## 💬 ส่วนที่ 6: ให้ AI สร้างคำตอบ (จำลอง)"
   ]
  },
  {
   "cell_type": "code",
   "metadata": {},
   "source": [
    "def fake_answer(context, question):\n",
    "    return f'จากข้อมูล: {context[:50]}...\nคำตอบ: มนุษย์สามารถคิดได้เพราะสมองมีเซลล์ประสาทจำนวนมากที่เชื่อมโยงกัน'\n",
    "\n",
    "context = chunks[best_idx]\n",
    "answer = fake_answer(context, query)\n",
    "print('\n🤖 คำตอบของ AI:\n', answer)"
   ]
  },
  {
   "cell_type": "markdown",
   "metadata": {},
   "source": [
    "## 🎮 ส่วนที่ 7: ให้นักเรียนลองทำเอง!"
   ]
  },
  {
   "cell_type": "code",
   "metadata": {},
   "source": [
    "user_q = input('พิมพ์คำถามของคุณ: ')\n",
    "user_vec = model.encode([user_q])\n",
    "scores = cosine_similarity(user_vec, embeddings)\n",
    "best_idx = np.argmax(scores)\n",
    "\n",
    "print('\n🔍 ข้อมูลที่เกี่ยวข้อง:')\n",
    "print(chunks[best_idx])\n",
    "\n",
    "print('\n🤖 คำตอบจำลองของ AI:')\n",
    "print(fake_answer(chunks[best_idx], user_q))"
   ]
  }
 ],
 "metadata": {
  "colab": {
   "name": "RAG_Workshop_Highschool",
   "provenance": []
  },
  "kernelspec": {
   "display_name": "Python 3",
   "language": "python",
   "name": "python3"
  },
  "language_info": {
   "name": "python"
  }
 },
 "nbformat": 4,
 "nbformat_minor": 2
}
